{
 "cells": [
  {
   "cell_type": "markdown",
   "metadata": {},
   "source": [
    "# A simple example notebook"
   ]
  },
  {
   "cell_type": "markdown",
   "metadata": {},
   "source": [
    "Lets install some packages"
   ]
  },
  {
   "cell_type": "code",
   "execution_count": 9,
   "metadata": {},
   "outputs": [
    {
     "name": "stderr",
     "output_type": "stream",
     "text": [
      "\u001b[1m\u001b[36mINFO: \u001b[39m\u001b[22m\u001b[36mPackage QuantumOptics is already installed\n",
      "\u001b[39m\u001b[1m\u001b[36mINFO: \u001b[39m\u001b[22m\u001b[36mCloning cache of LaTeXStrings from https://github.com/stevengj/LaTeXStrings.jl.git\n",
      "\u001b[39m\u001b[1m\u001b[36mINFO: \u001b[39m\u001b[22m\u001b[36mCloning cache of PyCall from https://github.com/JuliaPy/PyCall.jl.git\n",
      "\u001b[39m\u001b[1m\u001b[36mINFO: \u001b[39m\u001b[22m\u001b[36mCloning cache of PyPlot from https://github.com/JuliaPy/PyPlot.jl.git\n",
      "\u001b[39m\u001b[1m\u001b[36mINFO: \u001b[39m\u001b[22m\u001b[36mInstalling LaTeXStrings v1.0.0\n",
      "\u001b[39m\u001b[1m\u001b[36mINFO: \u001b[39m\u001b[22m\u001b[36mInstalling PyCall v1.17.1\n",
      "\u001b[39m\u001b[1m\u001b[36mINFO: \u001b[39m\u001b[22m\u001b[36mInstalling PyPlot v2.6.0\n",
      "\u001b[39m\u001b[1m\u001b[36mINFO: \u001b[39m\u001b[22m\u001b[36mBuilding Conda\n",
      "\u001b[39m\u001b[1m\u001b[36mINFO: \u001b[39m\u001b[22m\u001b[36mBuilding PyCall\n",
      "\u001b[39m\u001b[1m\u001b[36mInfo: \u001b[39m\u001b[22m\u001b[36mPyCall is using python (Python 3.7.0) at /usr/local/bin/python, libpython = /usr/local/lib/libpython3.7m\n",
      "\u001b[39m\u001b[1m\u001b[36mInfo: \u001b[39m\u001b[22m\u001b[36m/root/.julia/v0.6/PyCall/deps/deps.jl has been updated\n",
      "\u001b[39m\u001b[1m\u001b[36mInfo: \u001b[39m\u001b[22m\u001b[36m/root/.julia/v0.6/PyCall/deps/PYTHON has been updated\n",
      "\u001b[39m\u001b[1m\u001b[36mINFO: \u001b[39m\u001b[22m\u001b[36mPackage database updated\n",
      "\u001b[39m"
     ]
    }
   ],
   "source": [
    "Pkg.add(\"QuantumOptics\")\n",
    "Pkg.add(\"PyPlot\")"
   ]
  },
  {
   "cell_type": "markdown",
   "metadata": {},
   "source": [
    "## Quantum Simulation"
   ]
  },
  {
   "cell_type": "code",
   "execution_count": 19,
   "metadata": {},
   "outputs": [],
   "source": [
    "using QuantumOptics\n",
    "using PyPlot"
   ]
  },
  {
   "cell_type": "code",
   "execution_count": 20,
   "metadata": {},
   "outputs": [
    {
     "data": {
      "text/plain": [
       "SparseOperator(dim=4x4)\n",
       "  basis: [Spin(1/2) ⊗ Spin(1/2)]\n",
       "  [3, 2]  =  0.5+0.0im\n",
       "  [2, 3]  =  0.5+0.0im"
      ]
     },
     "execution_count": 20,
     "metadata": {},
     "output_type": "execute_result"
    }
   ],
   "source": [
    "# Parameters\n",
    "Ω = 0.5\n",
    "t = [0:0.1:10;]\n",
    "\n",
    "# Hamiltonian\n",
    "b = SpinBasis(1//2)\n",
    "H = Ω*(sigmap(b) ⊗ sigmam(b) + sigmam(b) ⊗ sigmap(b))"
   ]
  },
  {
   "cell_type": "code",
   "execution_count": 21,
   "metadata": {},
   "outputs": [
    {
     "data": {
      "text/plain": [
       "([0.0, 0.1, 0.2, 0.3, 0.4, 0.5, 0.6, 0.7, 0.8, 0.9  …  9.1, 9.2, 9.3, 9.4, 9.5, 9.6, 9.7, 9.8, 9.9, 10.0], QuantumOptics.states.Ket[Ket(dim=4)\n",
       "  basis: [Spin(1/2) ⊗ Spin(1/2)]\n",
       " 0.0+0.0im\n",
       " 1.0+0.0im\n",
       " 0.0+0.0im\n",
       " 0.0+0.0im, Ket(dim=4)\n",
       "  basis: [Spin(1/2) ⊗ Spin(1/2)]\n",
       "     0.0+0.0im      \n",
       " 0.99875+0.0im      \n",
       "     0.0-0.0499792im\n",
       "     0.0+0.0im      , Ket(dim=4)\n",
       "  basis: [Spin(1/2) ⊗ Spin(1/2)]\n",
       "      0.0+0.0im      \n",
       " 0.995004+0.0im      \n",
       "      0.0-0.0998334im\n",
       "      0.0+0.0im      , Ket(dim=4)\n",
       "  basis: [Spin(1/2) ⊗ Spin(1/2)]\n",
       "      0.0+0.0im     \n",
       " 0.988771+0.0im     \n",
       "      0.0-0.149438im\n",
       "      0.0+0.0im     , Ket(dim=4)\n",
       "  basis: [Spin(1/2) ⊗ Spin(1/2)]\n",
       "      0.0+0.0im     \n",
       " 0.980067+0.0im     \n",
       "      0.0-0.198669im\n",
       "      0.0+0.0im     , Ket(dim=4)\n",
       "  basis: [Spin(1/2) ⊗ Spin(1/2)]\n",
       "      0.0+0.0im     \n",
       " 0.968912+0.0im     \n",
       "      0.0-0.247404im\n",
       "      0.0+0.0im     , Ket(dim=4)\n",
       "  basis: [Spin(1/2) ⊗ Spin(1/2)]\n",
       "      0.0+0.0im    \n",
       " 0.955336+0.0im    \n",
       "      0.0-0.29552im\n",
       "      0.0+0.0im    , Ket(dim=4)\n",
       "  basis: [Spin(1/2) ⊗ Spin(1/2)]\n",
       "      0.0+0.0im     \n",
       " 0.939373+0.0im     \n",
       "      0.0-0.342898im\n",
       "      0.0+0.0im     , Ket(dim=4)\n",
       "  basis: [Spin(1/2) ⊗ Spin(1/2)]\n",
       "      0.0+0.0im     \n",
       " 0.921061+0.0im     \n",
       "      0.0-0.389418im\n",
       "      0.0+0.0im     , Ket(dim=4)\n",
       "  basis: [Spin(1/2) ⊗ Spin(1/2)]\n",
       "      0.0+0.0im     \n",
       " 0.900447+0.0im     \n",
       "      0.0-0.434966im\n",
       "      0.0+0.0im       …  Ket(dim=4)\n",
       "  basis: [Spin(1/2) ⊗ Spin(1/2)]\n",
       "       0.0+0.0im     \n",
       " -0.161676+0.0im     \n",
       "       0.0+0.986843im\n",
       "       0.0+0.0im     , Ket(dim=4)\n",
       "  basis: [Spin(1/2) ⊗ Spin(1/2)]\n",
       "       0.0+0.0im    \n",
       " -0.112152+0.0im    \n",
       "       0.0+0.99369im\n",
       "       0.0+0.0im    , Ket(dim=4)\n",
       "  basis: [Spin(1/2) ⊗ Spin(1/2)]\n",
       "        0.0+0.0im     \n",
       " -0.0623482+0.0im     \n",
       "        0.0+0.998054im\n",
       "        0.0+0.0im     , Ket(dim=4)\n",
       "  basis: [Spin(1/2) ⊗ Spin(1/2)]\n",
       "        0.0+0.0im     \n",
       " -0.0123884+0.0im     \n",
       "        0.0+0.999923im\n",
       "        0.0+0.0im     , Ket(dim=4)\n",
       "  basis: [Spin(1/2) ⊗ Spin(1/2)]\n",
       "       0.0+0.0im     \n",
       " 0.0376024+0.0im     \n",
       "       0.0+0.999292im\n",
       "       0.0+0.0im     , Ket(dim=4)\n",
       "  basis: [Spin(1/2) ⊗ Spin(1/2)]\n",
       "       0.0+0.0im     \n",
       " 0.0874992+0.0im     \n",
       "       0.0+0.996164im\n",
       "       0.0+0.0im     , Ket(dim=4)\n",
       "  basis: [Spin(1/2) ⊗ Spin(1/2)]\n",
       "      0.0+0.0im     \n",
       " 0.137177+0.0im     \n",
       "      0.0+0.990546im\n",
       "      0.0+0.0im     , Ket(dim=4)\n",
       "  basis: [Spin(1/2) ⊗ Spin(1/2)]\n",
       "      0.0+0.0im     \n",
       " 0.186512+0.0im     \n",
       "      0.0+0.982452im\n",
       "      0.0+0.0im     , Ket(dim=4)\n",
       "  basis: [Spin(1/2) ⊗ Spin(1/2)]\n",
       "      0.0+0.0im     \n",
       " 0.235382+0.0im     \n",
       "      0.0+0.971902im\n",
       "      0.0+0.0im     , Ket(dim=4)\n",
       "  basis: [Spin(1/2) ⊗ Spin(1/2)]\n",
       "      0.0+0.0im     \n",
       " 0.283662+0.0im     \n",
       "      0.0+0.958924im\n",
       "      0.0+0.0im     ])"
      ]
     },
     "execution_count": 21,
     "metadata": {},
     "output_type": "execute_result"
    }
   ],
   "source": [
    "ψ₀ = spindown(b) ⊗ spinup(b)\n",
    "tout, ψₜ = timeevolution.schroedinger(t, ψ₀, H)"
   ]
  },
  {
   "cell_type": "code",
   "execution_count": 22,
   "metadata": {},
   "outputs": [
    {
     "data": {
      "text/plain": [
       "101-element Array{Float64,1}:\n",
       " 0.0       \n",
       " 0.0251939 \n",
       " 0.0805724 \n",
       " 0.15434   \n",
       " 0.239855  \n",
       " 0.332225  \n",
       " 0.427502  \n",
       " 0.522361  \n",
       " 0.613946  \n",
       " 0.699784  \n",
       " 0.777748  \n",
       " 0.846022  \n",
       " 0.903095  \n",
       " ⋮         \n",
       " 0.3557    \n",
       " 0.26227   \n",
       " 0.174645  \n",
       " 0.0974382 \n",
       " 0.0367245 \n",
       " 0.00216748\n",
       " 0.0154245 \n",
       " 0.0648208 \n",
       " 0.134751  \n",
       " 0.217859  \n",
       " 0.308927  \n",
       " 0.403815  "
      ]
     },
     "execution_count": 22,
     "metadata": {},
     "output_type": "execute_result"
    }
   ],
   "source": [
    "# Reduced density matrix\n",
    "ρ_red = [ptrace(ψ ⊗ dagger(ψ), 1) for ψ=ψₜ]\n",
    "S = [entropy_vn(ρ)/log(2) for ρ=ρ_red]"
   ]
  },
  {
   "cell_type": "code",
   "execution_count": null,
   "metadata": {},
   "outputs": [],
   "source": [
    "figure(figsize=(6, 3))\n",
    "plot(tout, S)"
   ]
  },
  {
   "cell_type": "code",
   "execution_count": null,
   "metadata": {},
   "outputs": [],
   "source": []
  }
 ],
 "metadata": {
  "kernelspec": {
   "display_name": "Julia 0.6.4",
   "language": "julia",
   "name": "julia-0.6"
  },
  "language_info": {
   "file_extension": ".jl",
   "mimetype": "application/julia",
   "name": "julia",
   "version": "0.6.4"
  }
 },
 "nbformat": 4,
 "nbformat_minor": 2
}
